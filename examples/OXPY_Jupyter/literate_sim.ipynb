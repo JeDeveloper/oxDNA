{
 "cells": [
  {
   "cell_type": "markdown",
   "id": "52a3d74a",
   "metadata": {},
   "source": [
    "* Make sure before running the example that your execution path is in this example directory.\n",
    "* (Use `!pwd` to check and `%cd` to adjust the path if needed)"
   ]
  },
  {
   "cell_type": "code",
   "execution_count": 179,
   "id": "a459de23",
   "metadata": {},
   "outputs": [
    {
     "name": "stdout",
     "output_type": "stream",
     "text": [
      "rm: cannot remove 'trajectory.dat': No such file or directory\n"
     ]
    }
   ],
   "source": [
    "# clean up all files from the previous run\n",
    "!rm trajectory.dat\n",
    "!rm energy.dat\n",
    "!rm *.pyidx\n",
    "!rm relax_energy.dat"
   ]
  },
  {
   "cell_type": "markdown",
   "id": "58123c4a",
   "metadata": {},
   "source": [
    "## Let's have a look at the initial conf."
   ]
  },
  {
   "cell_type": "code",
   "execution_count": 180,
   "id": "22ac36a3",
   "metadata": {},
   "outputs": [
    {
     "data": {
      "text/html": [
       "<script>function handle(){let t_files = [];let t_ext = [];t_files.push(new Blob(['18 1\\n1 G -1 1\\n1 C 0 2\\n1 G 1 3\\n1 T 2 4\\n1 T 3 5\\n1 G 4 6\\n1 C 5 7\\n1 T 6 8\\n1 T 7 9\\n1 C 8 10\\n1 T 9 11\\n1 C 10 12\\n1 C 11 13\\n1 A 12 14\\n1 A 13 15\\n1 C 14 16\\n1 G 15 17\\n1 C 16 -1\\n'], {type : 'text/plain'}));t_ext.push(\"top\");t_files.push(new Blob(['t = 0\\nb = 15.0 15.0 15.0\\nE = -0.365026473198196 -0.365026473198196 0.0\\n4.464 -2.121 11.344 0.94106720 -0.28840787 -0.17667320 0.06380099 0.66436040 -0.74468429\\n4.765 -1.653 11.215 0.35968157 -0.75094926 -0.55380897 0.37491400 0.65982408 -0.65120786\\n5.613 -1.174 11.326 0.46131042 0.52444430 -0.71564718 -0.16105379 0.84269760 0.51373382\\n5.758 -0.743 11.502 -0.48405248 0.22149745 -0.84654124 -0.25672621 0.88891101 0.37937960\\n5.835 -0.320 11.436 -0.97774397 -0.20938321 0.01324361 -0.19055344 0.91268243 0.36152479\\n5.600 0.186 11.480 -0.81337828 -0.48453773 0.32193007 -0.44203519 0.87454352 0.19944551\\n5.493 0.800 11.594 -0.21273630 -0.57486837 0.79010735 0.11307667 0.78869968 0.60429006\\n4.806 1.563 11.360 -0.89237071 -0.03258781 -0.45012503 0.11036640 0.95134741 -0.28767579\\n4.755 1.795 10.978 -0.81089138 0.35587282 0.46455324 0.02729901 0.81598081 -0.57743405\\n5.347 1.512 9.865 -0.39316392 -0.03623148 -0.91875427 0.86182450 -0.36275443 -0.35449649\\n5.708 1.313 9.478 -0.67037090 -0.15854075 -0.72489150 0.66815326 -0.55389852 -0.49675713\\n6.202 2.013 9.714 -0.34341217 0.29362332 0.89210618 -0.60648579 -0.79459881 0.02806632\\n6.976 2.141 9.515 0.51389617 -0.83841674 0.18157118 -0.60276920 -0.20230549 0.77184311\\n7.539 2.084 9.558 0.06890084 -0.80400881 0.59061198 -0.71232231 -0.45413658 -0.53512326\\n7.464 2.168 8.797 -0.51784687 -0.69398048 0.50022566 -0.29893917 0.69466986 0.65426994\\n7.995 2.324 7.804 -0.18679203 0.53877987 -0.82147732 -0.19100241 -0.84015549 -0.50759909\\n8.506 1.996 7.697 0.67915202 0.20422379 0.70501431 0.73210693 -0.11957952 -0.67061180\\n8.939 2.293 7.522 0.37880042 -0.36129071 0.85204417 0.90503094 -0.04784766 -0.42264595'], {type : 'text/plain'}));t_ext.push(\"dat\");const frame = document.getElementById('oxview-frame-37112');frame.contentWindow.postMessage({message : 'iframe_drop',files: t_files, ext: t_ext, inbox_settings : ['None', 'None'] }, \"https://sulcgroup.github.io/oxdna-viewer/\");}</script><iframe width=\"99%\" height=\"500\"  src=\"https://sulcgroup.github.io/oxdna-viewer/\" id=\"oxview-frame-37112\" onload=\"handle()\"></iframe>"
      ],
      "text/plain": [
       "<IPython.core.display.HTML object>"
      ]
     },
     "metadata": {},
     "output_type": "display_data"
    }
   ],
   "source": [
    "# all functions required to read a configuration using the new RyeReader\n",
    "from oxDNA_analysis_tools.UTILS.RyeReader import describe, get_confs, inbox\n",
    "# the function used to visualize a configuration in oxView\n",
    "from oxDNA_analysis_tools.UTILS.oxview import oxdna_conf\n",
    "\n",
    "top = \"./hairpin.top\"\n",
    "traj = \"./hairpin.conf\"\n",
    "input_file = \"./input\"\n",
    "# RyeReader uses indexing allows for random access in the trajectory\n",
    "top_info, traj_info = describe(top, traj)\n",
    "\n",
    "# This is the new way to read configurations, as it returns a list we need [0]\n",
    "# to access a single conf\n",
    "ref_conf = get_confs(traj_info.idxs, traj_info.path, 0, 1, top_info.nbases)[0]\n",
    "# inbox the configuration\n",
    "ref_conf = inbox(ref_conf)\n",
    "\n",
    "# show an iframe displaying the configuration\n",
    "# inbox_settings = [\"None\", \"None\"] makes sure oxview does no post processing of the\n",
    "# loaded configuration\n",
    "oxdna_conf(top_info, ref_conf, inbox_settings=[\"None\",\"None\"])"
   ]
  },
  {
   "cell_type": "markdown",
   "id": "f742a041",
   "metadata": {},
   "source": [
    "## Notes:\n",
    "* We see that our system is a small unrelaxed hairpin.\n",
    "## Next:\n",
    "* Next we will run a short relaxation simulation.\n",
    "* The simulation is run on a separate thread, so during the run it is possible to run the analysis cells down the book.\n",
    "* This also potentially allows to run more than one replica at a time."
   ]
  },
  {
   "cell_type": "code",
   "execution_count": 186,
   "id": "19256a53",
   "metadata": {},
   "outputs": [],
   "source": [
    "import oxpy\n",
    "import multiprocessing\n",
    "# constant defining the number of simulation steps we run\n",
    "STEPS = 2000000\n",
    "INTERVAL = 10000\n",
    "dt = 0.003\n",
    "\n",
    "# helper function offloading the work to a new process\n",
    "def spawn(f, args = ()):\n",
    "    p = multiprocessing.Process(target=f, args= args )\n",
    "    p.start()\n",
    "    return p\n",
    "\n",
    "# one simulation instance\n",
    "# if you want to have multiple make sure the output files are different\n",
    "# resources used (like GPU's are different)  \n",
    "def relax_replica():\n",
    "    with oxpy.Context():\n",
    "        input = oxpy.InputFile()\n",
    "        input.init_from_filename(\"input\")\n",
    "        # all input parameters provided to oxDNA need to be strings \n",
    "        input[\"steps\"] = str(STEPS)\n",
    "        input[\"print_conf_interval\"] = str(INTERVAL)\n",
    "        input[\"print_energy_every\"] = str(INTERVAL)\n",
    "        input[\"dt\"] = str(dt)\n",
    "        # make sure our output is not overcrowded\n",
    "        input[\"no_stdout_energy\"] = \"true\"\n",
    "        # these settings turn a regular simulation into a relaxation one  \n",
    "        input[\"T\"] = \"10C\"\n",
    "        input[\"max_backbone_force\"] = \"5\"\n",
    "        input[\"max_backbone_force_far\"] = \"10\"\n",
    "        input[\"energy_file\"] = \"relax_energy.dat\"\n",
    "        # discard the relax data \n",
    "        input[\"trajectory\"] = \"/dev/null\"\n",
    "\n",
    "\n",
    "        # init the manager with the given input file\n",
    "        manager = oxpy.OxpyManager(input)\n",
    "        #run complete run's it till the number steps specified are reached \n",
    "        manager.run_complete()\n",
    "\n",
    "#make sure we don't have anything running\n",
    "try:\n",
    "    p.terminate()\n",
    "except:\n",
    "    pass\n",
    "# run a simulation and obtain a reference to the background process\n",
    "p = spawn(relax_replica)\n"
   ]
  },
  {
   "cell_type": "markdown",
   "id": "5626cfc6",
   "metadata": {},
   "source": [
    "## Monitor the energy during the relaxation run.\n",
    "* let's plot the energy \n",
    "* we run a MD relaxation simulation, so the file format is:\n",
    "`[time (steps)] [Total Energy] [Potential Energy] [Kinetic Energy]`\n",
    "* we'll use a red line to indicate complition\n",
    "* as we are looking at a hairpin which we will melt in further steps a `good` relaxed energy would be around -1\n",
    "    * note this is different from an origami relaxation where everything has to be paired and values around -1.45 are `good`.\n",
    "* all following cells can be reloaded multiple times during the running simulation to see progress"
   ]
  },
  {
   "cell_type": "code",
   "execution_count": 189,
   "id": "e8cd9aad",
   "metadata": {},
   "outputs": [
    {
     "name": "stdout",
     "output_type": "stream",
     "text": [
      "Relaxation is running: False\n"
     ]
    },
    {
     "data": {
      "image/png": "[encoded data removed]",
      "text/plain": [
       "<Figure size 1080x216 with 1 Axes>"
      ]
     },
     "metadata": {
      "needs_background": "light"
     },
     "output_type": "display_data"
    }
   ],
   "source": [
    "import pandas as pd\n",
    "import matplotlib.pyplot as plt\n",
    "df = pd.read_csv(\"relax_energy.dat\", delimiter=\"\\s+\",names=['time', 'U','P','K'])\n",
    "\n",
    "# make sure our figure is bigger\n",
    "plt.figure(figsize=(15,3)) \n",
    "# plot the energy\n",
    "plt.plot(df.time/dt,df.U)\n",
    "# and the line indicating the complete run\n",
    "plt.ylim([-2,1])\n",
    "plt.plot([STEPS,STEPS],[df.U.max(),df.U.min()-2], color=\"r\")\n",
    "plt.ylabel(\"Energy\")\n",
    "plt.xlabel(\"Steps\")\n",
    "# and the relaxed state line\n",
    "plt.plot([0,STEPS], [-1,-1], color=\"g\")\n",
    "print(\"Relaxation is running:\", p.is_alive())\n"
   ]
  },
  {
   "cell_type": "markdown",
   "id": "16e0938d",
   "metadata": {},
   "source": [
    "## Note:\n",
    "* it is easy to implement a relaxation run which will terminate the process after a desired energy value is reached\n",
    "* at any point in time we can interupt the run by calling `p.terminate()`"
   ]
  },
  {
   "cell_type": "markdown",
   "id": "e61b6be4",
   "metadata": {},
   "source": [
    "# Let's have a look on the relaxed last conf "
   ]
  },
  {
   "cell_type": "code",
   "execution_count": 188,
   "id": "47e20c51",
   "metadata": {},
   "outputs": [
    {
     "data": {
      "text/html": [
       "<script>function handle(){let t_files = [];let t_ext = [];t_files.push(new Blob(['18 1\\n1 G -1 1\\n1 C 0 2\\n1 G 1 3\\n1 T 2 4\\n1 T 3 5\\n1 G 4 6\\n1 C 5 7\\n1 T 6 8\\n1 T 7 9\\n1 C 8 10\\n1 T 9 11\\n1 C 10 12\\n1 C 11 13\\n1 A 12 14\\n1 A 13 15\\n1 C 14 16\\n1 G 15 17\\n1 C 16 -1\\n'], {type : 'text/plain'}));t_ext.push(\"top\");t_files.push(new Blob(['t = 930000\\nb = 15.0 15.0 15.0\\nE = -0.71125545788355 -0.84093288632229 0.12967742843874\\n7.857 6.045 11.822 0.94253113 0.26332382 0.20565902 0.25444531 -0.16675895 -0.95260119\\n8.109 6.293 11.407 0.69287365 -0.63429370 0.34292506 0.20858577 -0.27893756 -0.93738243\\n8.449 6.280 11.002 0.06181859 -0.88250327 0.46622574 0.37151175 -0.41320778 -0.83140745\\n8.790 5.957 10.715 -0.73402265 -0.61206305 0.29426106 0.21396088 -0.61964895 -0.75515291\\n8.938 5.476 10.550 -0.92946585 0.05362718 -0.36498953 0.23216601 -0.68384936 -0.69170008\\n8.611 5.091 10.251 -0.40184435 0.69365561 -0.59779847 -0.09876354 -0.68184939 -0.72479457\\n8.321 4.869 9.905 0.24729877 0.75468945 -0.60769001 -0.14747016 -0.59054814 -0.79341379\\n8.130 4.743 9.463 0.75099565 0.53687885 -0.38440426 -0.17440550 -0.40020542 -0.89967680\\n8.095 4.918 9.061 0.91087676 -0.32258503 -0.25737604 -0.33163998 -0.20103179 -0.92173811\\n8.018 4.968 8.592 0.52876114 -0.77547388 0.34503900 -0.19625248 -0.50720227 -0.83918462\\n8.204 4.716 8.172 -0.22679503 -0.72120235 0.65454655 -0.37217179 -0.55688024 -0.74254466\\n8.086 6.139 7.278 0.57769312 0.38228209 -0.72120113 -0.33611507 -0.69375666 -0.63696809\\n7.934 5.958 6.810 0.98414219 -0.14733481 -0.09877553 -0.17682319 -0.77072486 -0.61214112\\n8.007 5.692 6.395 0.53545678 -0.44811698 0.71587514 -0.25259827 -0.89380189 -0.37055673\\n7.972 5.170 6.166 0.27204402 -0.08443410 0.95857338 0.00673976 -0.99595150 -0.08963923\\n7.047 5.449 5.352 -0.22051775 0.97270582 -0.07221707 -0.50108633 -0.17649867 -0.84720759\\n7.618 6.341 5.392 0.32380011 0.90523758 0.27513345 0.31944268 0.16912300 -0.93239143\\n7.552 6.677 4.993 0.85389650 0.30183058 0.42398002 0.32517557 0.32665041 -0.88744598'], {type : 'text/plain'}));t_ext.push(\"dat\");const frame = document.getElementById('oxview-frame-631914');frame.contentWindow.postMessage({message : 'iframe_drop',files: t_files, ext: t_ext, inbox_settings : ['None', 'None'] }, \"https://sulcgroup.github.io/oxdna-viewer/\");}</script><iframe width=\"99%\" height=\"500\"  src=\"https://sulcgroup.github.io/oxdna-viewer/\" id=\"oxview-frame-631914\" onload=\"handle()\"></iframe>"
      ],
      "text/plain": [
       "<IPython.core.display.HTML object>"
      ]
     },
     "metadata": {},
     "output_type": "display_data"
    }
   ],
   "source": [
    "#load and inbox\n",
    "ti, di = describe(top, \"./last_conf.dat\")\n",
    "conf = inbox(get_confs(di.idxs, di.path, 0,1, ti.nbases)[0])\n",
    "# display\n",
    "oxdna_conf(ti, conf, inbox_settings=[\"None\",\"None\"])"
   ]
  },
  {
   "cell_type": "markdown",
   "id": "02c087f0",
   "metadata": {},
   "source": [
    "## Now let's do a melting simulation\n",
    "* we know that @ 60.85C the hairpin will transition between a fully bonded state and fully melted"
   ]
  },
  {
   "cell_type": "code",
   "execution_count": 273,
   "id": "2b2896a0",
   "metadata": {},
   "outputs": [
    {
     "data": {
      "text/plain": [
       "<Process name='Process-69' pid=831693 parent=798105 started>"
      ]
     },
     "execution_count": 273,
     "metadata": {},
     "output_type": "execute_result"
    },
    {
     "name": "stderr",
     "output_type": "stream",
     "text": [
      "WARNING: Overwriting key `diff_coeff' (`2.5' to `2.5')\n",
      "WARNING: Overwriting key `conf_file' (`hairpin.conf' to `last_conf.dat')\n",
      "WARNING: Overwriting key `steps' (`1000000' to `60000000')\n",
      "WARNING: Overwriting key `print_conf_interval' (`10000' to `50000')\n",
      "WARNING: Overwriting key `print_energy_every' (`10000' to `50000')\n",
      "WARNING: Overwriting key `dt' (`0.003' to `0.003')\n"
     ]
    }
   ],
   "source": [
    "STEPS = 60000000\n",
    "INTERVAL = 50000\n",
    "# define our boiler plate code to run the simulation\n",
    "def replica():\n",
    "    with oxpy.Context():\n",
    "        input = oxpy.InputFile()\n",
    "        input.init_from_filename(\"input\")\n",
    "        # all input parameters provided to oxDNA need to be strings \n",
    "        input[\"conf_file\"] = \"last_conf.dat\"\n",
    "        input[\"steps\"] = str(STEPS)\n",
    "        input[\"print_conf_interval\"] = str(INTERVAL)\n",
    "        input[\"print_energy_every\"] = str(INTERVAL)\n",
    "        input[\"dt\"] = str(dt)\n",
    "        # make sure our output is not overcrowded\n",
    "        input[\"no_stdout_energy\"] = \"true\"\n",
    "        \n",
    "        # init the manager with the given input file\n",
    "        manager = oxpy.OxpyManager(input)\n",
    "        #run complete run's it till the number steps specified are reached \n",
    "        manager.run_complete()\n",
    "\n",
    "#make sure we don't have anything running\n",
    "try:\n",
    "    p.terminate()\n",
    "except:\n",
    "    pass\n",
    "#note that for more than one replica running you will have to change the guard code \n",
    "spawn(replica)"
   ]
  },
  {
   "cell_type": "markdown",
   "id": "9a678e84",
   "metadata": {},
   "source": [
    "## we will monitor the run in almost the same way as before\n",
    "* Energy ~ -1 corresponds to open structure blue line\n",
    "* Energe ~ -1.2 is a fully bonded hairpin green line\n",
    "* Total steps - red line\n",
    "* the visualization is the last conf with computed bond energy per nucleotide"
   ]
  },
  {
   "cell_type": "code",
   "execution_count": 276,
   "id": "ea935dd3",
   "metadata": {},
   "outputs": [
    {
     "name": "stdout",
     "output_type": "stream",
     "text": [
      "Simulation is running: False\n"
     ]
    },
    {
     "data": {
      "image/png": "[encoded data removed]",
      "text/plain": [
       "<Figure size 1080x216 with 1 Axes>"
      ]
     },
     "metadata": {
      "needs_background": "light"
     },
     "output_type": "display_data"
    },
    {
     "name": "stdout",
     "output_type": "stream",
     "text": [
      "Last configuration is:\n",
      "INFO: oxDNA_analysis_tools version: 2.0.1\n",
      "INFO: running config.py installed at:  /home/micha/.local/lib/python3.9/site-packages/oxDNA_analysis_tools/config.py\n",
      "INFO: Python version: 3.9.7\n",
      "INFO: Package Numpy found. Version: 1.22.4\n",
      "INFO: No dependency issues found.\n",
      "INFO: no units specified, assuming oxDNA su\n",
      "INFO: Processing in blocks of 20 configurations\n",
      "INFO: You can modify this number by running oat config -n <number>, which will be persistent between analyses.\n",
      "Starting up 2 processes for 1 chunks\n",
      "All spawned, waiting for results\n",
      "WARNING: Overwriting key `diff_coeff' (`2.5' to `2.5')\n",
      "WARNING: Overwriting key `trajectory_file' (`trajectory.dat' to `last_conf.dat')\n",
      "INFO: The generator will try to take into account bonded interactions by choosing distances between bonded neighbours no larger than 2.000000\n",
      "INFO: Converting temperature from Celsius (60.850000 C°) to simulation units (0.111333)\n",
      "INFO: Running Debye-Huckel at salt concentration =  1\n",
      "INFO: Using different widths for major and minor grooves\n",
      "DEBUG: Debye-Huckel parameters: Q=0.054300, lambda_0=0.361646, lambda=0.381589, r_high=1.144767, cutoff=2.679947\n",
      "DEBUG: Debye-Huckel parameters: debye_huckel_RC=1.717150e+00, debye_huckel_B=7.208180e-03\n",
      "INFO: The Debye length at this temperature and salt concentration is 0.381589\n",
      "INFO: (Cells.cpp) N_cells_side: 4, 4, 4; rcut=2.67995, IS_MC: 0\n",
      "INFO: N: 18, N molecules: 1\n",
      "\n",
      "Please cite these publications for any work that uses the oxDNA simulation package\n",
      "\t\t- for the code:\n",
      "\t\t\t* P. Šulc et al., J. Chem. Phys. 137, 135101 (2012)\n",
      "\t\t\t* L. Rovigatti et al., J. Comput. Chem. 36, 1 (2015)\n",
      "\t\t- for the oxDNA model:\n",
      "\t\t\t* T. E. Ouldridge et al., J. Chem. Phys, 134, 085101 (2011)\n",
      "\t\t- for the oxDNA2 model:\n",
      "\t\t\t* B. E. K. Snodin et al., J. Chem. Phys. 142, 234901 (2015)\n",
      "\t\t- for the oxRNA model:\n",
      "\t\t\t* P. Šulc et al., J. Chem. Phys. 140, 235102 (2014)\n",
      "INFO: Aggregated I/O statistics (set debug=1 for file-wise information)\n",
      "\t  0.000  B written to files\n",
      "\t  0.000  B written to stdout/stderr\n",
      "INFO: Wrote oxView overlay to: bonds_FENE.json\n",
      "INFO: Wrote oxView overlay to: bonds_bexc.json\n",
      "INFO: Wrote oxView overlay to: bonds_stack.json\n",
      "INFO: Wrote oxView overlay to: bonds_nexc.json\n",
      "INFO: Wrote oxView overlay to: bonds_hb.json\n",
      "INFO: Wrote oxView overlay to: bonds_cr_stack.json\n",
      "INFO: Wrote oxView overlay to: bonds_cx_stack.json\n",
      "INFO: Wrote oxView overlay to: bonds_Debye-Huckel.json\n",
      "INFO: Wrote oxView overlay to: bonds_Total.json\n"
     ]
    },
    {
     "data": {
      "text/html": [
       "<script>function handle(){let t_files = [];let t_ext = [];t_files.push(new Blob(['18 1\\n1 G -1 1\\n1 C 0 2\\n1 G 1 3\\n1 T 2 4\\n1 T 3 5\\n1 G 4 6\\n1 C 5 7\\n1 T 6 8\\n1 T 7 9\\n1 C 8 10\\n1 T 9 11\\n1 C 10 12\\n1 C 11 13\\n1 A 12 14\\n1 A 13 15\\n1 C 14 16\\n1 G 15 17\\n1 C 16 -1\\n'], {type : 'text/plain'}));t_ext.push(\"top\");t_files.push(new Blob(['t = 4600000\\nb = 15.0 15.0 15.0\\nE = -0.999190777137177 -1.13728343914877 0.138092662011589\\n36.369 78.275 130.015 0.45809861 0.85162908 0.25470290 -0.88751381 0.42220116 0.18456820\\n35.952 78.323 130.291 0.41403301 0.89373822 -0.17265186 -0.80448851 0.44802109 0.38996837\\n35.729 78.650 130.661 0.34183635 0.75482628 -0.55980818 -0.75359648 0.57607524 0.31659068\\n35.695 79.054 130.971 -0.27134118 0.29906086 -0.91484237 -0.64222175 0.65170523 0.40352387\\n35.645 79.517 131.106 -0.62799815 -0.05221710 -0.77646101 -0.55884090 0.72462454 0.40325690\\n35.358 80.028 131.094 -0.71557755 -0.62500353 -0.31196052 -0.69825737 0.62744945 0.34459226\\n34.911 80.341 130.989 -0.35648959 -0.88531244 0.29855828 -0.85827192 0.43657459 0.26976275\\n34.327 80.413 130.854 -0.19637693 -0.88471010 0.42275779 -0.97762745 0.20980391 -0.01506263\\n34.755 81.014 131.965 0.49735262 -0.21373136 0.84080871 0.66473961 -0.52887872 -0.52764434\\n34.142 79.738 131.795 -0.45420325 0.00325624 -0.89089214 0.88963312 0.05492784 -0.45336061\\n34.483 79.527 131.566 -0.55452526 0.47811717 -0.68110624 0.71654623 -0.14186173 -0.68296175\\n34.438 79.249 131.096 0.14018390 0.94970204 -0.28002591 0.72490860 -0.29108744 -0.62432013\\n34.559 79.261 130.616 0.59919732 0.71405983 0.36205127 0.73832245 -0.31798302 -0.59478296\\n34.834 79.425 130.154 0.59109610 0.15007965 0.79251593 0.79693809 -0.26029500 -0.54510200\\n35.339 79.537 129.914 0.24634947 -0.49303392 0.83440367 0.78597916 -0.40208883 -0.46963957\\n35.913 79.492 129.859 -0.02912596 -0.69803697 0.71546912 0.87280687 -0.36662968 -0.32216587\\n36.488 79.402 129.909 -0.57301751 -0.80280825 0.16477214 0.70114382 -0.58431942 -0.40861738\\n36.897 78.992 129.976 -0.83558321 -0.38792766 -0.38898951 0.54919923 -0.60719756 -0.57418753'], {type : 'text/plain'}));t_ext.push(\"dat\");t_files.push(new Blob(['{\"Total (oxDNA su)\": [-1.0676026775, -2.5496430047, -3.076838995, -3.357844175, -3.1087014635999997, -3.367341949, -1.943552338, -0.5127273640000001, 0.15380344899999998, -0.8431803186000001, -1.966921457, -2.5355581339999995, -3.5640754969999997, -3.186332224, -3.1307257756999998, -2.863164013, -2.748823477, -1.2729817735]}'], {type : 'text/plain'}));t_ext.push(\"json\");const frame = document.getElementById('oxview-frame-524734');frame.contentWindow.postMessage({message : 'iframe_drop',files: t_files, ext: t_ext, inbox_settings : ['Monomer', 'Origin'] }, \"https://sulcgroup.github.io/oxdna-viewer/\");}</script><iframe width=\"99%\" height=\"500\"  src=\"https://sulcgroup.github.io/oxdna-viewer/\" id=\"oxview-frame-524734\" onload=\"handle()\"></iframe>"
      ],
      "text/plain": [
       "<IPython.core.display.HTML object>"
      ]
     },
     "metadata": {},
     "output_type": "display_data"
    }
   ],
   "source": [
    "import pandas as pd\n",
    "import matplotlib.pyplot as plt\n",
    "df = pd.read_csv(\"energy.dat\", delimiter=\"\\s+\",names=['time', 'U','P','K'])\n",
    "\n",
    "# make sure our figure is bigger\n",
    "plt.figure(figsize=(15,3)) \n",
    "# plot the energy\n",
    "plt.plot(df.time/dt,df.U)\n",
    "# and the line indicating the complete run\n",
    "plt.ylim([-1.5,0])\n",
    "plt.plot([STEPS,STEPS],[df.U.max(),df.U.min()-2], color=\"r\")\n",
    "plt.ylabel(\"Energy\")\n",
    "plt.xlabel(\"Steps\")\n",
    "# and the relaxed state line\n",
    "plt.plot([0,STEPS], [-1,-1], color=\"b\")\n",
    "plt.plot([0,STEPS], [-1.2,-1.2], color=\"g\")\n",
    "print(\"Simulation is running:\", p.is_alive())\n",
    "plt.show()\n",
    "\n",
    "\n",
    "#load last conf\n",
    "ti, di = describe(top, \"./last_conf.dat\")\n",
    "conf = get_confs(di.idxs, di.path, 0,1, ti.nbases)[0]\n",
    "print(\"Last configuration is:\")\n",
    "\n",
    "#produce the hydrogen bond overlay\n",
    "!oat output_bonds -v bonds -p 2 input last_conf.dat\n",
    "\n",
    "from json import loads\n",
    "with open(\"bonds_Total.json\") as file:\n",
    "    overlay = loads(file.read())\n",
    "\n",
    "# display\n",
    "oxdna_conf(ti, conf, overlay=overlay)"
   ]
  }
 ],
 "metadata": {
  "kernelspec": {
   "display_name": "Python 3 (ipykernel)",
   "language": "python",
   "name": "python3"
  },
  "language_info": {
   "codemirror_mode": {
    "name": "ipython",
    "version": 3
   },
   "file_extension": ".py",
   "mimetype": "text/x-python",
   "name": "python",
   "nbconvert_exporter": "python",
   "pygments_lexer": "ipython3",
   "version": "3.9.7"
  }
 },
 "nbformat": 4,
 "nbformat_minor": 5
}
